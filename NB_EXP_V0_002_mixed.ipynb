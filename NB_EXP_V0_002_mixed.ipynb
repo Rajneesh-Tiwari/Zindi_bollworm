{
 "cells": [
  {
   "cell_type": "markdown",
   "id": "46537662",
   "metadata": {},
   "source": [
    "### Regression notebook for Wadhwani AI competition"
   ]
  },
  {
   "cell_type": "code",
   "execution_count": null,
   "id": "4d241113",
   "metadata": {
    "execution": {
     "iopub.execute_input": "2022-10-21T04:46:40.770422Z",
     "iopub.status.busy": "2022-10-21T04:46:40.768650Z",
     "iopub.status.idle": "2022-10-21T04:46:46.027848Z",
     "shell.execute_reply": "2022-10-21T04:46:46.026647Z"
    },
    "id": "_b9cHesklRKW",
    "outputId": "0251b11b-0475-4dbb-dd52-7b75ec6d27e9",
    "papermill": {
     "duration": 5.275668,
     "end_time": "2022-10-21T04:46:46.030655",
     "exception": false,
     "start_time": "2022-10-21T04:46:40.754987",
     "status": "completed"
    },
    "tags": []
   },
   "outputs": [],
   "source": [
    "import pandas as pd\n",
    "import numpy as np\n",
    "import matplotlib.pyplot as plt\n",
    "from tqdm.auto import tqdm\n",
    "import os\n",
    "import gc\n",
    "import random\n",
    "from glob import glob\n",
    "from sklearn.model_selection import GroupKFold, KFold, StratifiedKFold\n",
    "import warnings\n",
    "import pickle\n",
    "import json\n",
    "import re\n",
    "import time\n",
    "import sys\n",
    "from requests import get\n",
    "import multiprocessing\n",
    "import joblib\n",
    "import torch\n",
    "from torch.utils.data import Dataset, DataLoader\n",
    "import transformers\n",
    "import torch.nn as nn\n",
    "import torch.nn.functional as F\n",
    "from torch.cuda.amp import GradScaler, autocast\n",
    "# from iterstrat.ml_stratifiers import MultilabelStratifiedKFold\n",
    "import timm\n",
    "from sklearn.preprocessing import minmax_scale\n",
    "import matplotlib.pyplot as plt\n",
    "import albumentations as A\n",
    "from albumentations.pytorch import ToTensorV2\n",
    "import cv2,torchvision\n",
    "from ipyexperiments.ipyexperiments import IPyExperimentsPytorch\n",
    "from timm.optim.optim_factory import create_optimizer_v2\n",
    "from timm import utils\n",
    "from fastprogress.fastprogress import format_time\n",
    "from fastai.vision.all import *\n",
    "from sklearn.multioutput import MultiOutputRegressor\n",
    "from lightgbm import LGBMRegressor\n",
    "from sklearn.metrics import mean_absolute_error\n",
    "class CFG:\n",
    "    seed = 46\n",
    "    n_splits = 5\n",
    "    SZ = 1280\n",
    "    debug = False\n",
    "    BS = 16\n",
    "    EP = 10\n",
    "    MODEL = 'tf_efficientnet_b0_ns'\n",
    "    LR = 5e-03\n",
    "    WD = 1e-08\n",
    "\n",
    "random.seed(CFG.seed)\n",
    "os.environ[\"PYTHONHASHSEED\"] = str(CFG.seed)\n",
    "np.random.seed(CFG.seed)\n",
    "plt.rcParams[\"font.size\"] = 13\n",
    "warnings.filterwarnings('ignore')"
   ]
  },
  {
   "cell_type": "code",
   "execution_count": null,
   "id": "f1fe7694",
   "metadata": {
    "execution": {
     "iopub.execute_input": "2022-10-21T04:46:46.053836Z",
     "iopub.status.busy": "2022-10-21T04:46:46.053171Z",
     "iopub.status.idle": "2022-10-21T04:46:46.061921Z",
     "shell.execute_reply": "2022-10-21T04:46:46.060953Z"
    },
    "papermill": {
     "duration": 0.022786,
     "end_time": "2022-10-21T04:46:46.064147",
     "exception": false,
     "start_time": "2022-10-21T04:46:46.041361",
     "status": "completed"
    },
    "tags": []
   },
   "outputs": [],
   "source": [
    "set_seed(CFG.seed)"
   ]
  },
  {
   "cell_type": "code",
   "execution_count": null,
   "id": "ae2a4371",
   "metadata": {
    "execution": {
     "iopub.execute_input": "2022-10-21T04:46:46.086954Z",
     "iopub.status.busy": "2022-10-21T04:46:46.086674Z",
     "iopub.status.idle": "2022-10-21T04:46:46.149851Z",
     "shell.execute_reply": "2022-10-21T04:46:46.148778Z"
    },
    "id": "PD4IsNvglQYA",
    "papermill": {
     "duration": 0.077084,
     "end_time": "2022-10-21T04:46:46.152797",
     "exception": false,
     "start_time": "2022-10-21T04:46:46.075713",
     "status": "completed"
    },
    "tags": []
   },
   "outputs": [],
   "source": [
    "DIR = '///mnt/c/Personal/Competitions/Zindi/Wadhwani AI/data/'\n",
    "IMG_PATH = '///mnt/c/Personal/Competitions/Zindi/Wadhwani AI/data/images'\n",
    "submit = pd.read_csv(os.path.join(DIR,'SampleSubmission.csv'))\n",
    "train = pd.read_csv(os.path.join(DIR,'Train.csv'))\n",
    "test_df = pd.read_csv(os.path.join(DIR,'Test.csv'))\n",
    "labels_dir = '///mnt/c/Personal/Competitions/Zindi/Wadhwani AI/runs/Mixed/fold0_infer_1280_CONFTHRESH_45/labels'\n",
    "\n",
    "VERSION = \"NB_EXP_V0_001_Mixed\"\n",
    "MODEL_FOLDER = Path(f\"///mnt/c/Personal/Competitions/Zindi/Wadhwani AI/runs/Mixed/{VERSION}/\")\n",
    "os.makedirs(MODEL_FOLDER,exist_ok=True)\n",
    "KERNEL_TYPE = f\"{CFG.MODEL}_{CFG.SZ}_bs{CFG.BS}_ep{CFG.EP}_lr{str(CFG.LR).replace('-','')}_wd{str(CFG.WD).replace('-','')}\"\n",
    "\n",
    "print(MODEL_FOLDER)\n",
    "print(KERNEL_TYPE)"
   ]
  },
  {
   "cell_type": "code",
   "execution_count": null,
   "id": "c81063fa",
   "metadata": {},
   "outputs": [],
   "source": [
    "def make_train_dataset():\n",
    "    train_new_pbw = pd.DataFrame()\n",
    "    train_new_pbw['image_id_worm']= train['image_id_worm'].unique()\n",
    "    train_new_pbw = pd.merge(train_new_pbw,train[train['worm_type']=='pbw'].reset_index(drop=True),on='image_id_worm',how='left')\n",
    "    train_new_pbw['worm_type'] = 'pbw'\n",
    "    train_new_pbw.fillna(0,inplace=True)\n",
    "    \n",
    "    train_new_abw = pd.DataFrame()\n",
    "    train_new_abw['image_id_worm']= train['image_id_worm'].unique()\n",
    "    train_new_abw = pd.merge(train_new_abw,train[train['worm_type']=='abw'].reset_index(drop=True),on='image_id_worm',how='left')\n",
    "    train_new_abw['worm_type'] = 'abw'\n",
    "    train_new_abw.fillna(0,inplace=True)\n",
    "    \n",
    "    train_out = pd.concat([train_new_pbw,train_new_abw],0).reset_index(drop=True)\n",
    "    \n",
    "    assert len(train_out) == train['image_id_worm'].nunique()*2\n",
    "    train_out = pd.pivot(train_out,'image_id_worm','worm_type','number_of_worms').reset_index()\n",
    "    train_out[['abw','pbw']] = train_out[['abw','pbw']].astype(int)\n",
    "    \n",
    "    labels = [f'{i}' for i in range(10)]\n",
    "    train_out['abw_bins'] = pd.cut(train_out['abw'],10,labels=labels)\n",
    "    train_out['pbw_bins'] = pd.cut(train_out['pbw'],10,labels=labels)\n",
    "    train_out['consol_bins'] = train_out['abw_bins'].astype(str)+'_'+train_out['pbw_bins'].astype(str)\n",
    "    \n",
    "#     train_out = train_out[['image_id_worm','abw','pbw','abw_bins','pbw_bins','consol_bins']]\n",
    "    return train_out\n",
    "\n",
    "train_new = make_train_dataset()"
   ]
  },
  {
   "cell_type": "code",
   "execution_count": null,
   "id": "a9ddfc9d",
   "metadata": {},
   "outputs": [],
   "source": [
    "train_new.head(1)"
   ]
  },
  {
   "cell_type": "markdown",
   "id": "dd909d43",
   "metadata": {
    "papermill": {
     "duration": 0.010524,
     "end_time": "2022-10-21T04:46:47.308030",
     "exception": false,
     "start_time": "2022-10-21T04:46:47.297506",
     "status": "completed"
    },
    "tags": []
   },
   "source": [
    "### Get kfolds"
   ]
  },
  {
   "cell_type": "code",
   "execution_count": null,
   "id": "3fb3ef44",
   "metadata": {},
   "outputs": [],
   "source": [
    "train_files = []\n",
    "val_files = []\n",
    "\n",
    "for folds in [1,2,3,4]:\n",
    "    files = list(pd.read_csv(f'///mnt/c/Personal/Competitions/Zindi/Wadhwani AI/data/splits/fold{folds}.txt',header=None)[0].apply(lambda x:x.split(\"/\")[-1]))\n",
    "    train_files.append(files)\n",
    "\n",
    "\n",
    "for folds in [0]:\n",
    "    files = list(pd.read_csv(f'///mnt/c/Personal/Competitions/Zindi/Wadhwani AI/data/splits/fold{folds}.txt',header=None)[0].apply(lambda x:x.split(\"/\")[-1]))\n",
    "    val_files.append(files)\n",
    "    \n",
    "train_files= ([item for sublist in train_files for item in sublist])\n",
    "val_files= ([item for sublist in val_files for item in sublist])"
   ]
  },
  {
   "cell_type": "code",
   "execution_count": null,
   "id": "42f5e8a0",
   "metadata": {
    "execution": {
     "iopub.execute_input": "2022-10-21T04:46:50.415560Z",
     "iopub.status.busy": "2022-10-21T04:46:50.415286Z",
     "iopub.status.idle": "2022-10-21T04:46:50.457720Z",
     "shell.execute_reply": "2022-10-21T04:46:50.456777Z"
    },
    "papermill": {
     "duration": 0.057434,
     "end_time": "2022-10-21T04:46:50.459934",
     "exception": false,
     "start_time": "2022-10-21T04:46:50.402500",
     "status": "completed"
    },
    "tags": []
   },
   "outputs": [],
   "source": [
    "train_new['fold'] = 0\n",
    "train_new.loc[train_new['image_id_worm'].isin(train_files),'fold'] = 0\n",
    "train_new.loc[train_new['image_id_worm'].isin(val_files),'fold'] = 1"
   ]
  },
  {
   "cell_type": "code",
   "execution_count": null,
   "id": "3669752e",
   "metadata": {},
   "outputs": [],
   "source": [
    "train_new.head()"
   ]
  },
  {
   "cell_type": "code",
   "execution_count": null,
   "id": "c5e26d3b",
   "metadata": {},
   "outputs": [],
   "source": [
    "test_df.head(1)"
   ]
  },
  {
   "cell_type": "markdown",
   "id": "e5de0651",
   "metadata": {},
   "source": [
    "### Get Yolo outputs"
   ]
  },
  {
   "cell_type": "code",
   "execution_count": null,
   "id": "ee6e0b57",
   "metadata": {},
   "outputs": [],
   "source": [
    "out_train = dict()\n",
    "for img_id in tqdm(list(train_new['image_id_worm'])):\n",
    "    img = img_id.split('.')[0]\n",
    "    out_train[f'{img}_abw'] = 0\n",
    "    out_train[f'{img}_pbw'] = 0\n",
    "\n",
    "    # read text file into pandas DataFrame\n",
    "    try:\n",
    "        df = pd.read_csv(f\"{labels_dir}/{img}.txt\", sep=\" \",header=None)\n",
    "        df.rename(columns = {0:'labels'},inplace=True)\n",
    "        out_temp = df['labels'].value_counts().to_dict()\n",
    "        for k,v in out_temp.items():\n",
    "            if k == 0:\n",
    "                out_train[f'{img}_abw'] += out_temp[k]\n",
    "            if k == 1:\n",
    "                out_train[f'{img}_pbw'] += out_temp[k]        \n",
    "    except:\n",
    "        continue"
   ]
  },
  {
   "cell_type": "code",
   "execution_count": null,
   "id": "e0609356",
   "metadata": {},
   "outputs": [],
   "source": [
    "out_test = dict()\n",
    "for img_id in tqdm(list(test_df['image_id_worm'])):\n",
    "    img = img_id.split('.')[0]\n",
    "    out_test[f'{img}_abw'] = 0\n",
    "    out_test[f'{img}_pbw'] = 0\n",
    "\n",
    "    # read text file into pandas DataFrame\n",
    "    try:\n",
    "        df = pd.read_csv(f\"{labels_dir}/{img}.txt\", sep=\" \",header=None)\n",
    "        df.rename(columns = {0:'labels'},inplace=True)\n",
    "        out_temp = df['labels'].value_counts().to_dict()\n",
    "        for k,v in out_temp.items():\n",
    "            if k == 0:\n",
    "                out_test[f'{img}_abw'] += out_temp[k]\n",
    "            if k == 1:\n",
    "                out_test[f'{img}_pbw'] += out_temp[k]        \n",
    "    except:\n",
    "        continue"
   ]
  },
  {
   "cell_type": "markdown",
   "id": "08d35019",
   "metadata": {},
   "source": [
    "### Get Regression Outputs"
   ]
  },
  {
   "cell_type": "code",
   "execution_count": null,
   "id": "8835643c",
   "metadata": {},
   "outputs": [],
   "source": [
    "def get_wadhwani_regression_model(model_name, pretrained=True, **kwargs):\n",
    "    model = timm.create_model(model_name, pretrained=pretrained, **kwargs)\n",
    "    model = nn.Sequential(model, nn.Dropout(0.15), nn.Linear(model.num_classes, 2),nn.ReLU())\n",
    "    return model"
   ]
  },
  {
   "cell_type": "code",
   "execution_count": null,
   "id": "aba07776",
   "metadata": {},
   "outputs": [],
   "source": [
    "VALID_AUG = A.Compose([\n",
    "    A.Resize(CFG.SZ,CFG.SZ,p=1),\n",
    "    A.Normalize(),\n",
    "    ToTensorV2(),\n",
    "])\n",
    "\n",
    "class WadhwaniRegDataset(Dataset):\n",
    "    def __init__(self,\n",
    "                 df=train_new,\n",
    "                 mode='train',\n",
    "                augs = None):\n",
    "        \n",
    "        self.augs = augs\n",
    "        self.df = df\n",
    "        self.mode  = mode\n",
    "        \n",
    "        \n",
    "    def __len__(self):\n",
    "        return len(self.df)\n",
    "    \n",
    "    def __getitem__(self, ix):\n",
    "        image_id = self.df.loc[ix,'image_id_worm']\n",
    "        img_path = f'{IMG_PATH}/{image_id}'\n",
    "        \n",
    "        img = Image.open(img_path).convert(\"RGB\")\n",
    "        img = np.array(img)\n",
    "        \n",
    "        if self.augs is not None:\n",
    "            img = self.augs(image=img)['image']\n",
    "    \n",
    "        if self.mode == 'test':\n",
    "            return img\n",
    "        \n",
    "        label = torch.tensor(self.df[['abw','pbw']].loc[ix]).float()\n",
    "        return img, label"
   ]
  },
  {
   "cell_type": "code",
   "execution_count": null,
   "id": "9753be39",
   "metadata": {},
   "outputs": [],
   "source": [
    "train_dataset = WadhwaniRegDataset(train_new, augs=VALID_AUG, mode='train')\n",
    "test_dataset = WadhwaniRegDataset(test_df, augs=VALID_AUG, mode='test')"
   ]
  },
  {
   "cell_type": "code",
   "execution_count": null,
   "id": "f3f3540c",
   "metadata": {},
   "outputs": [],
   "source": [
    "train_dl = torch.utils.data.DataLoader(train_dataset, 16, num_workers=8, shuffle=False, pin_memory=True)\n",
    "print('Train size: {}'.format(len(train_dl.dataset)))\n",
    "    \n",
    "preds_train = []\n",
    "imageids_train = []\n",
    "\n",
    "for input,_ in tqdm(train_dl, dynamic_ncols=True, desc=\"Predicting\"):\n",
    "    pred = []\n",
    "    with torch.cuda.amp.autocast(), torch.no_grad():\n",
    "        input = input.cuda()\n",
    "        model = get_wadhwani_regression_model('tf_efficientnet_b0_ns', pretrained=False)\n",
    "        model.load_state_dict(torch.load('///mnt/c/Personal/Competitions/Zindi/Wadhwani AI/runs/Regression/NB_EXP_V0_006_Regression/tf_efficientnet_b0_ns_1280_bs16_ep10_lr0.005_wd1e08_CV_0.pth'))\n",
    "        model.eval()\n",
    "        model.cuda()\n",
    "        pred.append(model(input))            \n",
    "        torch.cuda.empty_cache()\n",
    "        gc.collect()\n",
    "    pred = torch.mean(torch.stack(pred, -1),-1).data.cpu().numpy()\n",
    "    preds_train.append(pred)\n",
    "    \n",
    "preds_train = np.round(np.concatenate(preds_train, axis=0))"
   ]
  },
  {
   "cell_type": "code",
   "execution_count": null,
   "id": "d51a02e4",
   "metadata": {},
   "outputs": [],
   "source": [
    "test_dl = torch.utils.data.DataLoader(test_dataset, 16, num_workers=8, shuffle=False, pin_memory=True)\n",
    "print('Train size: {}'.format(len(test_dl.dataset)))\n",
    "    \n",
    "preds_test = []\n",
    "imageids_test = []\n",
    "\n",
    "for input in tqdm(test_dl, dynamic_ncols=True, desc=\"Predicting\"):\n",
    "    pred = []\n",
    "    with torch.cuda.amp.autocast(), torch.no_grad():\n",
    "        input = input.cuda()\n",
    "        model = get_wadhwani_regression_model('tf_efficientnet_b0_ns', pretrained=False)\n",
    "        model.load_state_dict(torch.load('///mnt/c/Personal/Competitions/Zindi/Wadhwani AI/runs/Regression/NB_EXP_V0_006_Regression/tf_efficientnet_b0_ns_1280_bs16_ep10_lr0.005_wd1e08_CV_0.pth'))\n",
    "        model.eval()\n",
    "        model.cuda()\n",
    "        pred.append(model(input))            \n",
    "        torch.cuda.empty_cache()\n",
    "        gc.collect()\n",
    "    pred = torch.mean(torch.stack(pred, -1),-1).data.cpu().numpy()\n",
    "    preds_test.append(pred)\n",
    "    \n",
    "preds_test = np.round(np.concatenate(preds_test, axis=0))"
   ]
  },
  {
   "cell_type": "markdown",
   "id": "0ab42872",
   "metadata": {},
   "source": [
    "#### Reg Preds"
   ]
  },
  {
   "cell_type": "code",
   "execution_count": null,
   "id": "6de16882",
   "metadata": {},
   "outputs": [],
   "source": [
    "preds_train_df_reg = pd.concat([train_new,pd.DataFrame(preds_train)],1)\n",
    "preds_train_df_reg['image_id_worm'] = preds_train_df_reg['image_id_worm'].apply(lambda x:x.split(\".\")[0])\n",
    "preds_train_df_reg.rename(columns={0:'abw_pred_reg',1:'pbw_pred_reg'},inplace=True)\n",
    "preds_train_df_reg.head()"
   ]
  },
  {
   "cell_type": "code",
   "execution_count": null,
   "id": "a8dcc86c",
   "metadata": {},
   "outputs": [],
   "source": [
    "preds_test_df_reg = pd.concat([test_df,pd.DataFrame(preds_test)],1)\n",
    "preds_test_df_reg['image_id_worm'] = preds_test_df_reg['image_id_worm'].apply(lambda x:x.split(\".\")[0])\n",
    "preds_test_df_reg.rename(columns={0:'abw_pred_reg',1:'pbw_pred_reg'},inplace=True)\n",
    "preds_test_df_reg.head()"
   ]
  },
  {
   "cell_type": "markdown",
   "id": "b80205bc",
   "metadata": {},
   "source": [
    "#### Yolo preds"
   ]
  },
  {
   "cell_type": "code",
   "execution_count": null,
   "id": "642e21ef",
   "metadata": {},
   "outputs": [],
   "source": [
    "preds_train_df_yolo = pd.DataFrame.from_dict(out_train,orient='index').reset_index()\n",
    "preds_train_df_yolo.rename(columns={'index':'image_id_worm',0:'number_of_worms'},inplace=True)\n",
    "preds_train_df_yolo.head()"
   ]
  },
  {
   "cell_type": "code",
   "execution_count": null,
   "id": "8aae91f2",
   "metadata": {},
   "outputs": [],
   "source": [
    "preds_train_df_yolo['category']=preds_train_df_yolo['image_id_worm'].apply(lambda x:x.split(\"_\")[2])\n",
    "preds_train_df_yolo['image_id_worm']=preds_train_df_yolo['image_id_worm'].apply(lambda x:x.split(\"_\")[0]+\"_\"+x.split(\"_\")[1])\n",
    "preds_train_df_yolo = preds_train_df_yolo.pivot(index='image_id_worm', columns='category', values='number_of_worms').reset_index()\n",
    "preds_train_df_yolo.rename(columns={'abw':'abw_pred_yolo','pbw':'pbw_pred_yolo'},inplace=True)\n",
    "preds_train_df_yolo.head()"
   ]
  },
  {
   "cell_type": "code",
   "execution_count": null,
   "id": "c2a0b7c9",
   "metadata": {},
   "outputs": [],
   "source": [
    "preds_test_df_yolo = pd.DataFrame.from_dict(out_test,orient='index').reset_index()\n",
    "preds_test_df_yolo.rename(columns={'index':'image_id_worm',0:'number_of_worms'},inplace=True)\n",
    "preds_test_df_yolo['category']=preds_test_df_yolo['image_id_worm'].apply(lambda x:x.split(\"_\")[2])\n",
    "preds_test_df_yolo['image_id_worm']=preds_test_df_yolo['image_id_worm'].apply(lambda x:x.split(\"_\")[0]+\"_\"+x.split(\"_\")[1])\n",
    "preds_test_df_yolo = preds_test_df_yolo.pivot(index='image_id_worm', columns='category', values='number_of_worms').reset_index()\n",
    "preds_test_df_yolo.rename(columns={'abw':'abw_pred_yolo','pbw':'pbw_pred_yolo'},inplace=True)\n",
    "preds_test_df_yolo.head()"
   ]
  },
  {
   "cell_type": "markdown",
   "id": "c50a4efa",
   "metadata": {},
   "source": [
    "### Merge"
   ]
  },
  {
   "cell_type": "code",
   "execution_count": null,
   "id": "2dcd3651",
   "metadata": {},
   "outputs": [],
   "source": [
    "preds_train_df_yolo.shape,preds_train_df_yolo.shape"
   ]
  },
  {
   "cell_type": "code",
   "execution_count": null,
   "id": "0bd76c81",
   "metadata": {},
   "outputs": [],
   "source": [
    "preds_train_df_consol = pd.merge(preds_train_df_reg,preds_train_df_yolo,on='image_id_worm',how='left')\n",
    "preds_test_df_consol = pd.merge(preds_test_df_reg,preds_test_df_yolo,on='image_id_worm',how='left')"
   ]
  },
  {
   "cell_type": "code",
   "execution_count": null,
   "id": "1dc0bfec",
   "metadata": {},
   "outputs": [],
   "source": [
    "preds_train_df_consol.head()"
   ]
  },
  {
   "cell_type": "code",
   "execution_count": null,
   "id": "6ae5ceb4",
   "metadata": {},
   "outputs": [],
   "source": [
    "preds_test_df_consol.head()"
   ]
  },
  {
   "cell_type": "code",
   "execution_count": null,
   "id": "c9d0a37b",
   "metadata": {},
   "outputs": [],
   "source": [
    "preds_train_df_consol['fold'].value_counts()"
   ]
  },
  {
   "cell_type": "markdown",
   "id": "18ee4a01",
   "metadata": {},
   "source": [
    "### Run!"
   ]
  },
  {
   "cell_type": "code",
   "execution_count": null,
   "id": "60917654",
   "metadata": {},
   "outputs": [],
   "source": [
    "def training_loop(fold):\n",
    "    out = pd.DataFrame()\n",
    "    pred_ = pd.DataFrame()\n",
    "    tr = preds_train_df_consol[preds_train_df_consol['fold']==0].reset_index(drop=True)\n",
    "    val = preds_train_df_consol[preds_train_df_consol['fold']==0].reset_index(drop=True)\n",
    "    \n",
    "    X_tr = tr[['abw_pred_reg','pbw_pred_reg','abw_pred_yolo','pbw_pred_yolo']]\n",
    "    Y_tr = tr[['abw','pbw']]\n",
    "\n",
    "    X_val = val[['abw_pred_reg','pbw_pred_reg','abw_pred_yolo','pbw_pred_yolo']]\n",
    "    Y_val = val[['abw','pbw']]\n",
    "\n",
    "    X_test = preds_test_df_consol[['abw_pred_reg','pbw_pred_reg','abw_pred_yolo','pbw_pred_yolo']]\n",
    "    \n",
    "    for i in range(2):\n",
    "        model = LGBMRegressor(verbose=1,random_state=42,num_leaves=31,metric='mae')\n",
    "        model.fit(X_tr, Y_tr.iloc[:,i], eval_set=(X_val,Y_val.iloc[:,i]),)    \n",
    "        p = np.round(model.predict(X_val).clip(0,600))\n",
    "        pred = np.round(model.predict(X_test).clip(0,600))\n",
    "        out = pd.concat([out,pd.DataFrame(pred)],1)\n",
    "        pred_ = pd.concat([pred_,pd.DataFrame(p)],1)\n",
    "    \n",
    "    pred_.columns = ['abw','pbw']\n",
    "    \n",
    "    print(f'mean_absolute_error:{mean_absolute_error(Y_val.values.reshape(-1,1),pred_.values.reshape(-1,1))}')\n",
    "    return model,out"
   ]
  },
  {
   "cell_type": "code",
   "execution_count": null,
   "id": "3cc7877d",
   "metadata": {},
   "outputs": [],
   "source": [
    "model,pred = training_loop(1)"
   ]
  },
  {
   "cell_type": "code",
   "execution_count": null,
   "id": "5772c7ce",
   "metadata": {},
   "outputs": [],
   "source": [
    "pred.min(),pred.max()"
   ]
  },
  {
   "cell_type": "code",
   "execution_count": null,
   "id": "b8857c7c",
   "metadata": {},
   "outputs": [],
   "source": [
    "pred.shape"
   ]
  },
  {
   "cell_type": "code",
   "execution_count": null,
   "id": "0cf1a49c",
   "metadata": {},
   "outputs": [],
   "source": [
    "pred.columns = ['abw','pbw']\n",
    "pred.head()\n"
   ]
  },
  {
   "cell_type": "code",
   "execution_count": null,
   "id": "d33172a3",
   "metadata": {},
   "outputs": [],
   "source": [
    "submit.head()"
   ]
  },
  {
   "cell_type": "code",
   "execution_count": null,
   "id": "57e673b9",
   "metadata": {},
   "outputs": [],
   "source": [
    "submit.loc[::2,'number_of_worms'] = pred.loc[:,'abw'].values\n",
    "submit.loc[1::2,'number_of_worms'] = pred.loc[:,'pbw'].values"
   ]
  },
  {
   "cell_type": "code",
   "execution_count": null,
   "id": "c502cd26",
   "metadata": {},
   "outputs": [],
   "source": [
    "submit.head(10)"
   ]
  },
  {
   "cell_type": "code",
   "execution_count": null,
   "id": "9e0a3fa4",
   "metadata": {},
   "outputs": [],
   "source": [
    "submit.to_csv('///mnt/c/Personal/Competitions/Zindi/Wadhwani AI/runs/Mixed/lgbm_reg_yolo.csv',index=False)"
   ]
  },
  {
   "cell_type": "markdown",
   "id": "cbb57bf2",
   "metadata": {
    "id": "T0Z5tB5f8obu",
    "papermill": {
     "duration": 0.018419,
     "end_time": "2022-10-21T04:58:56.268413",
     "exception": false,
     "start_time": "2022-10-21T04:58:56.249994",
     "status": "completed"
    },
    "tags": []
   },
   "source": [
    "### Fin "
   ]
  }
 ],
 "metadata": {
  "kernelspec": {
   "display_name": "Python 3 (ipykernel)",
   "language": "python",
   "name": "python3"
  },
  "language_info": {
   "codemirror_mode": {
    "name": "ipython",
    "version": 3
   },
   "file_extension": ".py",
   "mimetype": "text/x-python",
   "name": "python",
   "nbconvert_exporter": "python",
   "pygments_lexer": "ipython3",
   "version": "3.9.13"
  },
  "papermill": {
   "default_parameters": {},
   "duration": 771.032802,
   "end_time": "2022-10-21T04:58:58.627815",
   "environment_variables": {},
   "exception": null,
   "input_path": "__notebook__.ipynb",
   "output_path": "__notebook__.ipynb",
   "parameters": {},
   "start_time": "2022-10-21T04:46:07.595013",
   "version": "2.3.4"
  }
 },
 "nbformat": 4,
 "nbformat_minor": 5
}
