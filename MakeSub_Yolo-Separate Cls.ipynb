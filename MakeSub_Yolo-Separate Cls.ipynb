{
 "cells": [
  {
   "cell_type": "code",
   "execution_count": 1,
   "id": "bf5b748f",
   "metadata": {},
   "outputs": [],
   "source": [
    "import pandas as pd\n",
    "import os\n",
    "from tqdm import tqdm\n",
    "DIR = '///mnt/c/Personal/Competitions/Zindi/Wadhwani AI/data/'\n",
    "labels_dir_abw = '///mnt/c/Personal/Competitions/Zindi/Wadhwani AI/runs/yolov5l6_exp003/fold1/fold1_infer_1280_ABW_CONFTHRESH_634_IOUTHRESH_458/labels'\n",
    "labels_dir_pbw = '///mnt/c/Personal/Competitions/Zindi/Wadhwani AI/runs/yolov5l6_exp003/fold1/fold1_infer_1280_PBW_CONFTHRESH_347_IOUTHRESH_372/labels'\n",
    "\n",
    "submit = pd.read_csv(os.path.join(DIR,'SampleSubmission.csv'))\n",
    "test_df = pd.read_csv(os.path.join(DIR,'Test.csv'))\n",
    "mapping= {0: 'abw',1: 'pbw'}"
   ]
  },
  {
   "cell_type": "code",
   "execution_count": 2,
   "id": "43ab7aa5",
   "metadata": {},
   "outputs": [
    {
     "name": "stderr",
     "output_type": "stream",
     "text": [
      "100%|███████████████████████████████████████████████████████████████████████████████████████████████████████████████████████████████████████████████████████████████████████| 2803/2803 [00:20<00:00, 135.14it/s]\n"
     ]
    }
   ],
   "source": [
    "out = dict()\n",
    "for img_id in tqdm(list(test_df['image_id_worm'])):\n",
    "    img = img_id.split('.')[0]\n",
    "    out[f'{img}_abw'] = 0\n",
    "\n",
    "    # read text file into pandas DataFrame\n",
    "    try:\n",
    "        df = pd.read_csv(f\"{labels_dir_abw}/{img}.txt\", sep=\" \",header=None)\n",
    "        df.rename(columns = {0:'labels'},inplace=True)\n",
    "        out_temp = df['labels'].value_counts().to_dict()\n",
    "        for k,v in out_temp.items():\n",
    "            if k == 0:\n",
    "                out[f'{img}_abw'] += out_temp[k]\n",
    "    except:\n",
    "        continue    "
   ]
  },
  {
   "cell_type": "code",
   "execution_count": 3,
   "id": "5b82cb5c",
   "metadata": {},
   "outputs": [
    {
     "name": "stderr",
     "output_type": "stream",
     "text": [
      "100%|███████████████████████████████████████████████████████████████████████████████████████████████████████████████████████████████████████████████████████████████████████| 2803/2803 [00:24<00:00, 114.71it/s]\n"
     ]
    }
   ],
   "source": [
    "for img_id in tqdm(list(test_df['image_id_worm'])):\n",
    "    img = img_id.split('.')[0]\n",
    "    out[f'{img}_pbw'] = 0\n",
    "\n",
    "    # read text file into pandas DataFrame\n",
    "    try:\n",
    "        df = pd.read_csv(f\"{labels_dir_pbw}/{img}.txt\", sep=\" \",header=None)\n",
    "        df.rename(columns = {0:'labels'},inplace=True)\n",
    "        out_temp = df['labels'].value_counts().to_dict()\n",
    "        for k,v in out_temp.items():\n",
    "            if k == 1:\n",
    "                out[f'{img}_pbw'] += out_temp[k]                        \n",
    "    except:\n",
    "        continue\n",
    "    "
   ]
  },
  {
   "cell_type": "code",
   "execution_count": 4,
   "id": "7c012f6f",
   "metadata": {},
   "outputs": [],
   "source": [
    "out_df = pd.DataFrame.from_dict(out,orient='index').reset_index()\n",
    "out_df.rename(columns={'index':'image_id_worm',0:'number_of_worms'},inplace=True)"
   ]
  },
  {
   "cell_type": "code",
   "execution_count": 5,
   "id": "fdf68bf0",
   "metadata": {
    "scrolled": true
   },
   "outputs": [
    {
     "data": {
      "text/html": [
       "<div>\n",
       "<style scoped>\n",
       "    .dataframe tbody tr th:only-of-type {\n",
       "        vertical-align: middle;\n",
       "    }\n",
       "\n",
       "    .dataframe tbody tr th {\n",
       "        vertical-align: top;\n",
       "    }\n",
       "\n",
       "    .dataframe thead th {\n",
       "        text-align: right;\n",
       "    }\n",
       "</style>\n",
       "<table border=\"1\" class=\"dataframe\">\n",
       "  <thead>\n",
       "    <tr style=\"text-align: right;\">\n",
       "      <th></th>\n",
       "      <th>image_id_worm</th>\n",
       "      <th>number_of_worms</th>\n",
       "    </tr>\n",
       "  </thead>\n",
       "  <tbody>\n",
       "    <tr>\n",
       "      <th>0</th>\n",
       "      <td>id_00332970f80fa9a47a39516d_abw</td>\n",
       "      <td>4</td>\n",
       "    </tr>\n",
       "    <tr>\n",
       "      <th>1</th>\n",
       "      <td>id_00332970f80fa9a47a39516d_pbw</td>\n",
       "      <td>0</td>\n",
       "    </tr>\n",
       "    <tr>\n",
       "      <th>2</th>\n",
       "      <td>id_0035981bc3ae42eb5b57a317_abw</td>\n",
       "      <td>0</td>\n",
       "    </tr>\n",
       "    <tr>\n",
       "      <th>3</th>\n",
       "      <td>id_0035981bc3ae42eb5b57a317_pbw</td>\n",
       "      <td>20</td>\n",
       "    </tr>\n",
       "    <tr>\n",
       "      <th>4</th>\n",
       "      <td>id_005102f664b820f778291dee_abw</td>\n",
       "      <td>9</td>\n",
       "    </tr>\n",
       "  </tbody>\n",
       "</table>\n",
       "</div>"
      ],
      "text/plain": [
       "                     image_id_worm  number_of_worms\n",
       "0  id_00332970f80fa9a47a39516d_abw                4\n",
       "1  id_00332970f80fa9a47a39516d_pbw                0\n",
       "2  id_0035981bc3ae42eb5b57a317_abw                0\n",
       "3  id_0035981bc3ae42eb5b57a317_pbw               20\n",
       "4  id_005102f664b820f778291dee_abw                9"
      ]
     },
     "execution_count": 5,
     "metadata": {},
     "output_type": "execute_result"
    }
   ],
   "source": [
    "submit = pd.merge(submit[['image_id_worm']],out_df,on='image_id_worm',how='left')\n",
    "submit.head()"
   ]
  },
  {
   "cell_type": "code",
   "execution_count": 6,
   "id": "e2cb17a7",
   "metadata": {},
   "outputs": [],
   "source": [
    "submit.to_csv('///mnt/c/Personal/Competitions/Zindi/Wadhwani AI/runs/yolov5l6_exp003/fold1/submit_both_separate.csv',index=False)"
   ]
  },
  {
   "cell_type": "code",
   "execution_count": 7,
   "id": "dee27f58",
   "metadata": {},
   "outputs": [
    {
     "data": {
      "text/html": [
       "<div>\n",
       "<style scoped>\n",
       "    .dataframe tbody tr th:only-of-type {\n",
       "        vertical-align: middle;\n",
       "    }\n",
       "\n",
       "    .dataframe tbody tr th {\n",
       "        vertical-align: top;\n",
       "    }\n",
       "\n",
       "    .dataframe thead th {\n",
       "        text-align: right;\n",
       "    }\n",
       "</style>\n",
       "<table border=\"1\" class=\"dataframe\">\n",
       "  <thead>\n",
       "    <tr style=\"text-align: right;\">\n",
       "      <th></th>\n",
       "      <th>image_id_worm</th>\n",
       "      <th>number_of_worms</th>\n",
       "    </tr>\n",
       "  </thead>\n",
       "  <tbody>\n",
       "    <tr>\n",
       "      <th>345</th>\n",
       "      <td>id_0edb22ec8f2c24e4e9039fe1_pbw</td>\n",
       "      <td>392</td>\n",
       "    </tr>\n",
       "    <tr>\n",
       "      <th>361</th>\n",
       "      <td>id_0f469d41eb988ebabbb60a57_pbw</td>\n",
       "      <td>474</td>\n",
       "    </tr>\n",
       "    <tr>\n",
       "      <th>2739</th>\n",
       "      <td>id_7be486eecf08e7e18ee17600_pbw</td>\n",
       "      <td>414</td>\n",
       "    </tr>\n",
       "    <tr>\n",
       "      <th>4079</th>\n",
       "      <td>id_bbae805d96b9c65757dfed7f_pbw</td>\n",
       "      <td>397</td>\n",
       "    </tr>\n",
       "    <tr>\n",
       "      <th>4335</th>\n",
       "      <td>id_c726c53c9d2cb7341aa6846e_pbw</td>\n",
       "      <td>343</td>\n",
       "    </tr>\n",
       "    <tr>\n",
       "      <th>5037</th>\n",
       "      <td>id_e5a8f88ddd79e1a1d65e41c2_pbw</td>\n",
       "      <td>326</td>\n",
       "    </tr>\n",
       "  </tbody>\n",
       "</table>\n",
       "</div>"
      ],
      "text/plain": [
       "                        image_id_worm  number_of_worms\n",
       "345   id_0edb22ec8f2c24e4e9039fe1_pbw              392\n",
       "361   id_0f469d41eb988ebabbb60a57_pbw              474\n",
       "2739  id_7be486eecf08e7e18ee17600_pbw              414\n",
       "4079  id_bbae805d96b9c65757dfed7f_pbw              397\n",
       "4335  id_c726c53c9d2cb7341aa6846e_pbw              343\n",
       "5037  id_e5a8f88ddd79e1a1d65e41c2_pbw              326"
      ]
     },
     "execution_count": 7,
     "metadata": {},
     "output_type": "execute_result"
    }
   ],
   "source": [
    "submit[submit['number_of_worms']>300]"
   ]
  },
  {
   "cell_type": "markdown",
   "id": "5704dda8",
   "metadata": {},
   "source": [
    "### Fin "
   ]
  }
 ],
 "metadata": {
  "kernelspec": {
   "display_name": "Python 3 (ipykernel)",
   "language": "python",
   "name": "python3"
  },
  "language_info": {
   "codemirror_mode": {
    "name": "ipython",
    "version": 3
   },
   "file_extension": ".py",
   "mimetype": "text/x-python",
   "name": "python",
   "nbconvert_exporter": "python",
   "pygments_lexer": "ipython3",
   "version": "3.9.13"
  }
 },
 "nbformat": 4,
 "nbformat_minor": 5
}
