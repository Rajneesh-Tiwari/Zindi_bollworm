{
 "cells": [
  {
   "cell_type": "code",
   "execution_count": null,
   "id": "0999be08",
   "metadata": {},
   "outputs": [],
   "source": [
    "import pandas as pd"
   ]
  },
  {
   "cell_type": "code",
   "execution_count": null,
   "id": "baff2a4a",
   "metadata": {},
   "outputs": [],
   "source": [
    "ls"
   ]
  },
  {
   "cell_type": "code",
   "execution_count": null,
   "id": "9c460b89",
   "metadata": {},
   "outputs": [],
   "source": [
    "data = pd.read_parquet('Onemata_Mobile_Location_Data_20221001_IN__B0001__1_0009_part_23.parquet')"
   ]
  },
  {
   "cell_type": "code",
   "execution_count": null,
   "id": "4a3475dd",
   "metadata": {},
   "outputs": [],
   "source": [
    "data.head()"
   ]
  },
  {
   "cell_type": "code",
   "execution_count": null,
   "id": "9900abab",
   "metadata": {},
   "outputs": [],
   "source": [
    "data['mobile_ad_id'].value_counts()"
   ]
  },
  {
   "cell_type": "code",
   "execution_count": null,
   "id": "c781549a",
   "metadata": {},
   "outputs": [],
   "source": [
    "data[data['mobile_ad_id']=='01b4a018-6c27-4c13-b9e9-c41fda98592d']"
   ]
  },
  {
   "cell_type": "code",
   "execution_count": null,
   "id": "02ca34d4",
   "metadata": {},
   "outputs": [],
   "source": []
  },
  {
   "cell_type": "code",
   "execution_count": null,
   "id": "b9ea5b22",
   "metadata": {},
   "outputs": [],
   "source": []
  },
  {
   "cell_type": "code",
   "execution_count": null,
   "id": "ea783440",
   "metadata": {},
   "outputs": [],
   "source": []
  }
 ],
 "metadata": {
  "kernelspec": {
   "display_name": "Python 3 (ipykernel)",
   "language": "python",
   "name": "python3"
  },
  "language_info": {
   "codemirror_mode": {
    "name": "ipython",
    "version": 3
   },
   "file_extension": ".py",
   "mimetype": "text/x-python",
   "name": "python",
   "nbconvert_exporter": "python",
   "pygments_lexer": "ipython3",
   "version": "3.9.13"
  }
 },
 "nbformat": 4,
 "nbformat_minor": 5
}
