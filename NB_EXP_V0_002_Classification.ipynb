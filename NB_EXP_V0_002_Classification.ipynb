{
 "cells": [
  {
   "cell_type": "markdown",
   "id": "46537662",
   "metadata": {},
   "source": [
    "### Regression notebook for Wadhwani AI competition"
   ]
  },
  {
   "cell_type": "code",
   "execution_count": 1,
   "id": "4d241113",
   "metadata": {
    "execution": {
     "iopub.execute_input": "2022-10-21T04:46:40.770422Z",
     "iopub.status.busy": "2022-10-21T04:46:40.768650Z",
     "iopub.status.idle": "2022-10-21T04:46:46.027848Z",
     "shell.execute_reply": "2022-10-21T04:46:46.026647Z"
    },
    "id": "_b9cHesklRKW",
    "outputId": "0251b11b-0475-4dbb-dd52-7b75ec6d27e9",
    "papermill": {
     "duration": 5.275668,
     "end_time": "2022-10-21T04:46:46.030655",
     "exception": false,
     "start_time": "2022-10-21T04:46:40.754987",
     "status": "completed"
    },
    "tags": []
   },
   "outputs": [],
   "source": [
    "import pandas as pd\n",
    "import numpy as np\n",
    "import matplotlib.pyplot as plt\n",
    "from tqdm.auto import tqdm\n",
    "import os\n",
    "import gc\n",
    "import random\n",
    "from glob import glob\n",
    "from sklearn.model_selection import GroupKFold, KFold, StratifiedKFold\n",
    "import warnings\n",
    "import pickle\n",
    "import json\n",
    "import re\n",
    "import time\n",
    "import sys\n",
    "from requests import get\n",
    "import multiprocessing\n",
    "import joblib\n",
    "import torch\n",
    "from torch.utils.data import Dataset, DataLoader\n",
    "import transformers\n",
    "import torch.nn as nn\n",
    "import torch.nn.functional as F\n",
    "from torch.cuda.amp import GradScaler, autocast\n",
    "from iterstrat.ml_stratifiers import MultilabelStratifiedKFold\n",
    "import timm\n",
    "from sklearn.preprocessing import minmax_scale\n",
    "import matplotlib.pyplot as plt\n",
    "import albumentations as A\n",
    "from albumentations.pytorch import ToTensorV2\n",
    "import cv2,torchvision\n",
    "from ipyexperiments.ipyexperiments import IPyExperimentsPytorch\n",
    "from timm.optim.optim_factory import create_optimizer_v2\n",
    "from timm import utils\n",
    "from fastprogress.fastprogress import format_time\n",
    "from fastai.vision.all import *\n",
    "\n",
    "\n",
    "class CFG:\n",
    "    seed = 46\n",
    "    n_splits = 5\n",
    "    SZ = 1024\n",
    "    debug = False\n",
    "    BS = 12\n",
    "    EP = 10\n",
    "    MODEL = 'tf_efficientnet_b0_ns'\n",
    "    LR = 5e-03\n",
    "    WD = 1e-08\n",
    "    debug = False\n",
    "\n",
    "random.seed(CFG.seed)\n",
    "os.environ[\"PYTHONHASHSEED\"] = str(CFG.seed)\n",
    "np.random.seed(CFG.seed)\n",
    "plt.rcParams[\"font.size\"] = 13\n",
    "warnings.filterwarnings('ignore')"
   ]
  },
  {
   "cell_type": "code",
   "execution_count": 2,
   "id": "f1fe7694",
   "metadata": {
    "execution": {
     "iopub.execute_input": "2022-10-21T04:46:46.053836Z",
     "iopub.status.busy": "2022-10-21T04:46:46.053171Z",
     "iopub.status.idle": "2022-10-21T04:46:46.061921Z",
     "shell.execute_reply": "2022-10-21T04:46:46.060953Z"
    },
    "papermill": {
     "duration": 0.022786,
     "end_time": "2022-10-21T04:46:46.064147",
     "exception": false,
     "start_time": "2022-10-21T04:46:46.041361",
     "status": "completed"
    },
    "tags": []
   },
   "outputs": [],
   "source": [
    "set_seed(CFG.seed)"
   ]
  },
  {
   "cell_type": "code",
   "execution_count": 3,
   "id": "ae2a4371",
   "metadata": {
    "execution": {
     "iopub.execute_input": "2022-10-21T04:46:46.086954Z",
     "iopub.status.busy": "2022-10-21T04:46:46.086674Z",
     "iopub.status.idle": "2022-10-21T04:46:46.149851Z",
     "shell.execute_reply": "2022-10-21T04:46:46.148778Z"
    },
    "id": "PD4IsNvglQYA",
    "papermill": {
     "duration": 0.077084,
     "end_time": "2022-10-21T04:46:46.152797",
     "exception": false,
     "start_time": "2022-10-21T04:46:46.075713",
     "status": "completed"
    },
    "tags": []
   },
   "outputs": [
    {
     "name": "stdout",
     "output_type": "stream",
     "text": [
      "/mnt/c/Personal/Competitions/Zindi/Wadhwani AI/runs/Classification/NB_EXP_V0_002_Classification\n",
      "tf_efficientnet_b0_ns_1024_bs12_ep10_lr0.005_wd1e08\n"
     ]
    }
   ],
   "source": [
    "DIR = '///mnt/c/Personal/Competitions/Zindi/Wadhwani AI/data/'\n",
    "IMG_PATH = '///mnt/c/Personal/Competitions/Zindi/Wadhwani AI/data/images'\n",
    "submit = pd.read_csv(os.path.join(DIR,'SampleSubmission.csv'))\n",
    "train = pd.read_csv(os.path.join(DIR,'Train.csv'))\n",
    "test_df = pd.read_csv(os.path.join(DIR,'Test.csv'))\n",
    "\n",
    "if CFG.debug:\n",
    "    train = train.sample(frac=0.1).reset_index(drop=True)\n",
    "    \n",
    "VERSION = \"NB_EXP_V0_002_Classification\"\n",
    "MODEL_FOLDER = Path(f\"///mnt/c/Personal/Competitions/Zindi/Wadhwani AI/runs/Classification/{VERSION}/\")\n",
    "os.makedirs(MODEL_FOLDER,exist_ok=True)\n",
    "KERNEL_TYPE = f\"{CFG.MODEL}_{CFG.SZ}_bs{CFG.BS}_ep{CFG.EP}_lr{str(CFG.LR).replace('-','')}_wd{str(CFG.WD).replace('-','')}\"\n",
    "\n",
    "print(MODEL_FOLDER)\n",
    "print(KERNEL_TYPE)"
   ]
  },
  {
   "cell_type": "code",
   "execution_count": 4,
   "id": "c81063fa",
   "metadata": {},
   "outputs": [],
   "source": [
    "def make_train_dataset():\n",
    "    train_new_pbw = pd.DataFrame()\n",
    "    train_new_pbw['image_id_worm']= train['image_id_worm'].unique()\n",
    "    train_new_pbw = pd.merge(train_new_pbw,train[train['worm_type']=='pbw'].reset_index(drop=True),on='image_id_worm',how='left')\n",
    "    train_new_pbw['worm_type'] = 'pbw'\n",
    "    train_new_pbw.fillna(0,inplace=True)\n",
    "    \n",
    "    train_new_abw = pd.DataFrame()\n",
    "    train_new_abw['image_id_worm']= train['image_id_worm'].unique()\n",
    "    train_new_abw = pd.merge(train_new_abw,train[train['worm_type']=='abw'].reset_index(drop=True),on='image_id_worm',how='left')\n",
    "    train_new_abw['worm_type'] = 'abw'\n",
    "    train_new_abw.fillna(0,inplace=True)\n",
    "    \n",
    "    train_out = pd.concat([train_new_pbw,train_new_abw],0).reset_index(drop=True)\n",
    "    \n",
    "    assert len(train_out) == train['image_id_worm'].nunique()*2\n",
    "    train_out = pd.pivot(train_out,'image_id_worm','worm_type','number_of_worms').reset_index()\n",
    "    train_out[['abw','pbw']] = train_out[['abw','pbw']].astype(int)\n",
    "    \n",
    "    train_out['abw_cls'] = (train_out['abw']>0).astype(int)\n",
    "    train_out['pbw_cls'] = (train_out['pbw']>0).astype(int)\n",
    "    \n",
    "    return train_out\n",
    "\n",
    "train_new = make_train_dataset()"
   ]
  },
  {
   "cell_type": "code",
   "execution_count": 5,
   "id": "a9ddfc9d",
   "metadata": {},
   "outputs": [
    {
     "data": {
      "text/html": [
       "<div>\n",
       "<style scoped>\n",
       "    .dataframe tbody tr th:only-of-type {\n",
       "        vertical-align: middle;\n",
       "    }\n",
       "\n",
       "    .dataframe tbody tr th {\n",
       "        vertical-align: top;\n",
       "    }\n",
       "\n",
       "    .dataframe thead th {\n",
       "        text-align: right;\n",
       "    }\n",
       "</style>\n",
       "<table border=\"1\" class=\"dataframe\">\n",
       "  <thead>\n",
       "    <tr style=\"text-align: right;\">\n",
       "      <th>worm_type</th>\n",
       "      <th>image_id_worm</th>\n",
       "      <th>abw</th>\n",
       "      <th>pbw</th>\n",
       "      <th>abw_cls</th>\n",
       "      <th>pbw_cls</th>\n",
       "    </tr>\n",
       "  </thead>\n",
       "  <tbody>\n",
       "    <tr>\n",
       "      <th>0</th>\n",
       "      <td>id_0002ea6f15c7fa6f4c221783.jpg</td>\n",
       "      <td>0</td>\n",
       "      <td>51</td>\n",
       "      <td>0</td>\n",
       "      <td>1</td>\n",
       "    </tr>\n",
       "  </tbody>\n",
       "</table>\n",
       "</div>"
      ],
      "text/plain": [
       "worm_type                    image_id_worm  abw  pbw  abw_cls  pbw_cls\n",
       "0          id_0002ea6f15c7fa6f4c221783.jpg    0   51        0        1"
      ]
     },
     "execution_count": 5,
     "metadata": {},
     "output_type": "execute_result"
    }
   ],
   "source": [
    "train_new.head(1)"
   ]
  },
  {
   "cell_type": "code",
   "execution_count": 19,
   "id": "adb5e0e1",
   "metadata": {},
   "outputs": [
    {
     "data": {
      "text/plain": [
       "0     8042\n",
       "5      253\n",
       "1      243\n",
       "6      180\n",
       "3      171\n",
       "4      160\n",
       "7      152\n",
       "8      147\n",
       "2      106\n",
       "9      100\n",
       "10      72\n",
       "11      39\n",
       "12      29\n",
       "15      12\n",
       "13      12\n",
       "14      10\n",
       "16       7\n",
       "22       1\n",
       "23       1\n",
       "Name: abw, dtype: int64"
      ]
     },
     "execution_count": 19,
     "metadata": {},
     "output_type": "execute_result"
    }
   ],
   "source": [
    "train_new['abw'].value_counts()[:25]"
   ]
  },
  {
   "cell_type": "code",
   "execution_count": 26,
   "id": "975323dc",
   "metadata": {
    "scrolled": true
   },
   "outputs": [
    {
     "data": {
      "text/plain": [
       "69"
      ]
     },
     "execution_count": 26,
     "metadata": {},
     "output_type": "execute_result"
    }
   ],
   "source": [
    "(train_new['pbw']>200).sum()"
   ]
  },
  {
   "cell_type": "markdown",
   "id": "dd909d43",
   "metadata": {
    "papermill": {
     "duration": 0.010524,
     "end_time": "2022-10-21T04:46:47.308030",
     "exception": false,
     "start_time": "2022-10-21T04:46:47.297506",
     "status": "completed"
    },
    "tags": []
   },
   "source": [
    "### Get kfolds"
   ]
  },
  {
   "cell_type": "code",
   "execution_count": null,
   "id": "42f5e8a0",
   "metadata": {
    "execution": {
     "iopub.execute_input": "2022-10-21T04:46:50.415560Z",
     "iopub.status.busy": "2022-10-21T04:46:50.415286Z",
     "iopub.status.idle": "2022-10-21T04:46:50.457720Z",
     "shell.execute_reply": "2022-10-21T04:46:50.456777Z"
    },
    "papermill": {
     "duration": 0.057434,
     "end_time": "2022-10-21T04:46:50.459934",
     "exception": false,
     "start_time": "2022-10-21T04:46:50.402500",
     "status": "completed"
    },
    "tags": []
   },
   "outputs": [],
   "source": [
    "train_files = []\n",
    "val_files = []\n",
    "fold = []\n",
    "\n",
    "for folds in [0,1,2,3,4]:\n",
    "    files = list(pd.read_csv(f'///mnt/c/Personal/Competitions/Zindi/Wadhwani AI/data/splits/fold{folds}.txt',header=None)[0].apply(lambda x:x.split(\"/\")[-1]))\n",
    "    fold.append([folds]*len(files))\n",
    "    train_files.append(files)\n",
    "\n",
    "train_files= ([item for sublist in train_files for item in sublist])\n",
    "fold= ([item for sublist in fold for item in sublist])\n",
    "fold_dict = dict(zip(train_files,fold))\n",
    "train_new['fold'] = train_new['image_id_worm'].map(fold_dict)\n",
    "train_new = train_new.loc[~train_new['fold'].isna()].reset_index(drop=True)"
   ]
  },
  {
   "cell_type": "code",
   "execution_count": null,
   "id": "3669752e",
   "metadata": {},
   "outputs": [],
   "source": [
    "train_new.head()"
   ]
  },
  {
   "cell_type": "code",
   "execution_count": null,
   "id": "c5e26d3b",
   "metadata": {},
   "outputs": [],
   "source": [
    "test_df.head(1)"
   ]
  },
  {
   "cell_type": "markdown",
   "id": "cbfb2b79",
   "metadata": {
    "papermill": {
     "duration": 0.011456,
     "end_time": "2022-10-21T04:46:50.483973",
     "exception": false,
     "start_time": "2022-10-21T04:46:50.472517",
     "status": "completed"
    },
    "tags": []
   },
   "source": [
    "#### Data loader"
   ]
  },
  {
   "cell_type": "code",
   "execution_count": null,
   "id": "c73ecef4",
   "metadata": {
    "execution": {
     "iopub.execute_input": "2022-10-21T04:46:51.308402Z",
     "iopub.status.busy": "2022-10-21T04:46:51.308008Z",
     "iopub.status.idle": "2022-10-21T04:46:51.318874Z",
     "shell.execute_reply": "2022-10-21T04:46:51.317960Z"
    },
    "papermill": {
     "duration": 0.028413,
     "end_time": "2022-10-21T04:46:51.321386",
     "exception": false,
     "start_time": "2022-10-21T04:46:51.292973",
     "status": "completed"
    },
    "tags": []
   },
   "outputs": [],
   "source": [
    "class WadhwaniDataset(Dataset):\n",
    "    def __init__(self,\n",
    "                 df=train_new,\n",
    "                 mode='train',\n",
    "                augs = None):\n",
    "        \n",
    "        self.augs = augs\n",
    "        self.df = df\n",
    "        self.mode  = mode\n",
    "        \n",
    "        \n",
    "    def __len__(self):\n",
    "        return len(self.df)\n",
    "    \n",
    "    def __getitem__(self, ix):\n",
    "        image_id = self.df.loc[ix,'image_id_worm']\n",
    "        img_path = f'{IMG_PATH}/{image_id}'\n",
    "        \n",
    "        img = Image.open(img_path).convert(\"RGB\")\n",
    "        img = np.array(img)\n",
    "        \n",
    "        if self.augs is not None:\n",
    "            img = self.augs(image=img)['image']\n",
    "    \n",
    "        if self.mode == 'test':\n",
    "            return img\n",
    "        \n",
    "        label = torch.tensor(self.df[['abw_cls','pbw_cls']].loc[ix]).float()\n",
    "        return img, label"
   ]
  },
  {
   "cell_type": "code",
   "execution_count": null,
   "id": "101207aa",
   "metadata": {
    "execution": {
     "iopub.execute_input": "2022-10-21T04:46:51.351557Z",
     "iopub.status.busy": "2022-10-21T04:46:51.351216Z",
     "iopub.status.idle": "2022-10-21T04:46:51.356377Z",
     "shell.execute_reply": "2022-10-21T04:46:51.355263Z"
    },
    "papermill": {
     "duration": 0.025285,
     "end_time": "2022-10-21T04:46:51.358947",
     "exception": false,
     "start_time": "2022-10-21T04:46:51.333662",
     "status": "completed"
    },
    "tags": []
   },
   "outputs": [],
   "source": [
    "def worker_init_fn(worker_id):\n",
    "    \"\"\"\n",
    "    Handles PyTorch x Numpy seeding issues.\n",
    "    Args:\n",
    "        worker_id (int): Id of the worker.\n",
    "    \"\"\"\n",
    "    np.random.seed(np.random.get_state()[1][0] + worker_id)"
   ]
  },
  {
   "cell_type": "markdown",
   "id": "3f9b59ef",
   "metadata": {},
   "source": [
    "### Augmentations"
   ]
  },
  {
   "cell_type": "code",
   "execution_count": null,
   "id": "500ddfdd",
   "metadata": {},
   "outputs": [],
   "source": [
    "\n",
    "TRAIN_AUG = A.Compose([\n",
    "#     A.RandomResizedCrop(height=SZ, width=SZ, p=1.0, scale=(0.72, 1.0)),\n",
    "#     A.Transpose(p=0.5),\n",
    "    A.HorizontalFlip(p=0.5),\n",
    "    A.VerticalFlip(p=0.5),\n",
    "    A.ShiftScaleRotate(rotate_limit=45, border_mode=0, p=0.75),\n",
    "    A.RandomBrightnessContrast(brightness_limit=0.1, contrast_limit=0.1),\n",
    "    A.Blur(p=0.5),\n",
    "#     A.CoarseDropout(max_height=int(32*(CFG.SZ/512)), max_width=int(32*(CFG.SZ/512)), p=0.75),\n",
    "    A.Resize(CFG.SZ,CFG.SZ,p=1),\n",
    "    A.Normalize(),\n",
    "    ToTensorV2(),\n",
    "])\n",
    "\n",
    "VALID_AUG = A.Compose([\n",
    "#     A.SmallestMaxSize(max_size=CFG.SZ + 16, p=1.0),\n",
    "#     A.CenterCrop(height=CFG.SZ, width=CFG.SZ, p=1.0),\n",
    "    A.Resize(CFG.SZ,CFG.SZ,p=1),\n",
    "    A.Normalize(),\n",
    "    ToTensorV2(),\n",
    "])"
   ]
  },
  {
   "cell_type": "markdown",
   "id": "78bf59ae",
   "metadata": {},
   "source": [
    "### Visualization"
   ]
  },
  {
   "cell_type": "code",
   "execution_count": null,
   "id": "4410391e",
   "metadata": {},
   "outputs": [],
   "source": [
    "dataset_show = WadhwaniDataset(train_new, augs=TRAIN_AUG, mode='train')\n",
    "loader_show = torch.utils.data.DataLoader(dataset_show, batch_size=6)\n",
    "img,target = next(iter(loader_show))\n",
    "\n",
    "grid = torchvision.utils.make_grid(img, normalize=True, padding=2)\n",
    "grid = grid.permute(1, 2, 0)\n",
    "show_image(grid, figsize=(15,8),title=[x for x in target.numpy()]);"
   ]
  },
  {
   "cell_type": "markdown",
   "id": "083f9823",
   "metadata": {
    "papermill": {
     "duration": 0.012058,
     "end_time": "2022-10-21T04:46:51.383502",
     "exception": false,
     "start_time": "2022-10-21T04:46:51.371444",
     "status": "completed"
    },
    "tags": []
   },
   "source": [
    "### Model"
   ]
  },
  {
   "cell_type": "code",
   "execution_count": null,
   "id": "20034eca",
   "metadata": {},
   "outputs": [],
   "source": [
    "def get_wadhwani_classification_model(model_name, pretrained=True, **kwargs):\n",
    "    model = timm.create_model(model_name, pretrained=pretrained, **kwargs)\n",
    "    model = nn.Sequential(model, nn.Dropout(0.15), nn.Linear(model.num_classes, 2))\n",
    "    return model"
   ]
  },
  {
   "cell_type": "code",
   "execution_count": null,
   "id": "d41add6b",
   "metadata": {
    "execution": {
     "iopub.execute_input": "2022-10-21T04:46:51.748231Z",
     "iopub.status.busy": "2022-10-21T04:46:51.747517Z",
     "iopub.status.idle": "2022-10-21T04:46:51.959456Z",
     "shell.execute_reply": "2022-10-21T04:46:51.958430Z"
    },
    "papermill": {
     "duration": 0.227045,
     "end_time": "2022-10-21T04:46:51.962222",
     "exception": false,
     "start_time": "2022-10-21T04:46:51.735177",
     "status": "completed"
    },
    "tags": []
   },
   "outputs": [],
   "source": [
    "dl = DataLoader(WadhwaniDataset(train_new, augs=TRAIN_AUG, mode='train'),\n",
    "                          batch_size=2,\n",
    "                          shuffle=True,\n",
    "                          num_workers=8,\n",
    "                          drop_last=True,\n",
    "                        worker_init_fn=worker_init_fn)\n",
    "\n",
    "a,b = next(iter(dl))\n",
    "a.shape,b[0].shape,b[1].shape"
   ]
  },
  {
   "cell_type": "code",
   "execution_count": null,
   "id": "e6a3e892",
   "metadata": {
    "execution": {
     "iopub.execute_input": "2022-10-21T04:46:51.987500Z",
     "iopub.status.busy": "2022-10-21T04:46:51.987165Z",
     "iopub.status.idle": "2022-10-21T04:46:58.618975Z",
     "shell.execute_reply": "2022-10-21T04:46:58.616805Z"
    },
    "papermill": {
     "duration": 6.647161,
     "end_time": "2022-10-21T04:46:58.621465",
     "exception": false,
     "start_time": "2022-10-21T04:46:51.974304",
     "status": "completed"
    },
    "tags": []
   },
   "outputs": [],
   "source": [
    "m = get_wadhwani_classification_model(CFG.MODEL)\n",
    "out = m(a)\n",
    "print(out, out.shape)"
   ]
  },
  {
   "cell_type": "code",
   "execution_count": null,
   "id": "175fb85c",
   "metadata": {
    "scrolled": true
   },
   "outputs": [],
   "source": [
    " nn.BCEWithLogitsLoss()(out,b)"
   ]
  },
  {
   "cell_type": "markdown",
   "id": "53fff2ad",
   "metadata": {
    "papermill": {
     "duration": 0.013027,
     "end_time": "2022-10-21T04:46:58.648053",
     "exception": false,
     "start_time": "2022-10-21T04:46:58.635026",
     "status": "completed"
    },
    "tags": []
   },
   "source": [
    "### Train & Validation Function"
   ]
  },
  {
   "cell_type": "code",
   "execution_count": null,
   "id": "d597af09",
   "metadata": {
    "execution": {
     "iopub.execute_input": "2022-10-21T04:46:58.675824Z",
     "iopub.status.busy": "2022-10-21T04:46:58.674778Z",
     "iopub.status.idle": "2022-10-21T04:46:58.683272Z",
     "shell.execute_reply": "2022-10-21T04:46:58.682071Z"
    },
    "papermill": {
     "duration": 0.025267,
     "end_time": "2022-10-21T04:46:58.685455",
     "exception": false,
     "start_time": "2022-10-21T04:46:58.660188",
     "status": "completed"
    },
    "tags": []
   },
   "outputs": [],
   "source": [
    "# class CombinedL1Loss:\n",
    "#     \"Dice and Focal combined\"\n",
    "#     def __init__(self, axis=1, smooth=1., alpha=0.5):\n",
    "#         store_attr()\n",
    "#         self.loss1 = torch.nn.L1Loss()\n",
    "#         self.loss2 =  torch.nn.L1Loss()\n",
    "        \n",
    "#     def __call__(self, pred, targ):\n",
    "#         loss = self.loss1(pred[0], targ[0]) + self.dice_loss(pred[1], targ[1])\n",
    "#         return loss\n",
    "    \n",
    "#     def decodes(self, x):    return x.argmax(dim=self.axis)\n",
    "#     def activation(self, x): return F.softmax(x, dim=self.axis)"
   ]
  },
  {
   "cell_type": "code",
   "execution_count": null,
   "id": "8c498a12",
   "metadata": {},
   "outputs": [],
   "source": [
    "def train_one_epoch(\n",
    "    model: nn.Module,\n",
    "    loader: Iterable,\n",
    "    loss_fn: Callable,\n",
    "    optimizer: torch.optim.Optimizer,\n",
    "    lr_scheduler: torch.optim.lr_scheduler._LRScheduler = None,\n",
    "    mixup_fn: Callable = None,\n",
    "    grad_scaler: torch.cuda.amp.GradScaler = None,\n",
    "    mbar: master_bar = None,\n",
    "):\n",
    "\n",
    "    model.train()\n",
    "\n",
    "    losses_m = utils.AverageMeter()\n",
    "\n",
    "    pbar = progress_bar(loader, parent=mbar, leave=False)\n",
    "    pbar.update(0)\n",
    "\n",
    "    for batch_idx, (input, target) in enumerate(loader):\n",
    "        input, target = input.cuda(), target.cuda()\n",
    "        \n",
    "        optimizer.zero_grad()\n",
    "        with torch.cuda.amp.autocast(enabled=True):\n",
    "            output = model(input)\n",
    "            loss = loss_fn(output, target)\n",
    "            \n",
    "        losses_m.update(loss.item(), input.size(0))\n",
    "\n",
    "        grad_scaler.scale(loss).backward()\n",
    "        grad_scaler.step(optimizer)\n",
    "        grad_scaler.update()\n",
    "\n",
    "        if lr_scheduler is not None:\n",
    "            lr_scheduler.step()\n",
    "\n",
    "        pbar.update(batch_idx + 1)\n",
    "        pbar.comment = f\"{losses_m.avg:.4f}\"\n",
    "\n",
    "    pbar.on_iter_end()\n",
    "    return OrderedDict([(\"loss\", losses_m.avg)])\n",
    "\n",
    "\n",
    "@torch.inference_mode()\n",
    "def validate(model: nn.Module, loader: Iterable, loss_fn: Callable, mbar: master_bar):\n",
    "    model.eval()\n",
    "\n",
    "    accs_m = utils.AverageMeter()\n",
    "    losses_m = utils.AverageMeter()\n",
    "\n",
    "    pbar = progress_bar(loader, parent=mbar, leave=False)\n",
    "    pbar.update(0)\n",
    "\n",
    "    for batch_idx, (input, target) in enumerate(loader):\n",
    "        \n",
    "        input, target = input.cuda(), target.cuda()\n",
    "        output = torch.round(model(input))\n",
    "\n",
    "        loss = loss_fn(output, target).item()\n",
    "        losses_m.update(loss, input.size(0))\n",
    "\n",
    "        acc = accuracy_multi(output, target).item()\n",
    "        accs_m.update(acc, output.size(0))\n",
    "\n",
    "        pbar.update(batch_idx + 1)\n",
    "\n",
    "    pbar.on_iter_end()\n",
    "    return OrderedDict([(\"loss\", losses_m.avg), (\"accuracy\", accs_m.avg)])\n"
   ]
  },
  {
   "cell_type": "markdown",
   "id": "18ee4a01",
   "metadata": {},
   "source": [
    "### Run!"
   ]
  },
  {
   "cell_type": "code",
   "execution_count": null,
   "id": "28d98325",
   "metadata": {},
   "outputs": [],
   "source": [
    "train_new = train_new[~train_new['fold'].isna()].reset_index(drop=True)\n",
    "train_new['fold'] = train_new['fold'].astype(int)\n",
    "print(train_new['fold'].unique())"
   ]
  },
  {
   "cell_type": "code",
   "execution_count": null,
   "id": "60917654",
   "metadata": {},
   "outputs": [],
   "source": [
    "def training_loop(fold):\n",
    "    \n",
    "#     if fold>0:\n",
    "#         time.sleep(5*60)\n",
    "    \n",
    "    with IPyExperimentsPytorch(exp_enable=False, cl_set_seed=42, cl_compact=True):\n",
    "        print()\n",
    "        print(\"*\" * 100)\n",
    "        print(f\"Training fold {fold}\")\n",
    "        print(\"*\" * 100)\n",
    "\n",
    "        torch.backends.cudnn.benchmark = True\n",
    "\n",
    "        dataset_train = WadhwaniDataset(train_new.query(\"fold!=@fold\").reset_index(drop=True), augs=TRAIN_AUG, mode=\"train\")\n",
    "        dataset_valid = WadhwaniDataset(train_new.query(\"fold==@fold\").reset_index(drop=True), augs=VALID_AUG, mode=\"valid\")\n",
    "\n",
    "        print(f\"TRAIN: {len(dataset_train)} | VALID: {len(dataset_valid)}\")\n",
    "\n",
    "        loader_train = torch.utils.data.DataLoader(dataset_train, CFG.BS, num_workers=8, shuffle=True, drop_last=True)\n",
    "        loader_valid = torch.utils.data.DataLoader(dataset_valid, CFG.BS * 2, num_workers=8, shuffle=False)\n",
    "\n",
    "        model = get_wadhwani_classification_model(CFG.MODEL, pretrained=True, drop_path_rate=0.15)\n",
    "        model.cuda()\n",
    "        # adamw\n",
    "        optimizer = create_optimizer_v2(model, \"lookahead_RAdam\", lr=CFG.LR, weight_decay=CFG.WD, layer_decay=0.9)\n",
    "\n",
    "        num_train_steps = len(loader_train) * CFG.EP\n",
    "        lr_scheduler = torch.optim.lr_scheduler.CosineAnnealingLR(optimizer, num_train_steps)\n",
    "\n",
    "        train_loss_fn = nn.BCEWithLogitsLoss()\n",
    "        valid_loss_fn = nn.BCEWithLogitsLoss()\n",
    "\n",
    "        grad_scaler = torch.cuda.amp.GradScaler()\n",
    "\n",
    "        print(f\"Scheduled epochs: {CFG.EP}\")\n",
    "\n",
    "        mbar = master_bar(list(range(CFG.EP)))\n",
    "        best_epoch, best_metric = 0, 0\n",
    "        metric_names = [\"epoch\", \"train_loss\", \"valid_loss\", \"accuracy\", \"time\"]\n",
    "        mbar.write([f\"{l:.6f}\" if isinstance(l, float) else str(l) for l in metric_names], table=True)\n",
    "\n",
    "        for epoch in range(CFG.EP):\n",
    "            start_time = time.time()\n",
    "            mbar.update(epoch)\n",
    "\n",
    "            train_metrics = train_one_epoch(\n",
    "                model, loader_train, train_loss_fn, optimizer,\n",
    "                lr_scheduler=lr_scheduler, mixup_fn=None, grad_scaler=grad_scaler, mbar=mbar)\n",
    "\n",
    "            valid_metrics = validate(model, loader_valid, valid_loss_fn, mbar=mbar)\n",
    "            \n",
    "            elapsed = format_time(time.time() - start_time)\n",
    "            epoch_log = [epoch,train_metrics[\"loss\"], valid_metrics[\"loss\"], valid_metrics[\"accuracy\"], elapsed]\n",
    "            mbar.write([f\"{l:.6f}\" if isinstance(l, float) else str(l) for l in epoch_log], table=True)\n",
    "\n",
    "            if valid_metrics[\"accuracy\"] > best_metric:\n",
    "                best_epoch, best_metric = epoch, valid_metrics[\"accuracy\"]\n",
    "                dirpath = MODEL_FOLDER / (KERNEL_TYPE + f\"_CV_{fold}.pth\")\n",
    "                if not CFG.debug:\n",
    "                    torch.save(model.state_dict(), dirpath)\n",
    "\n",
    "        mbar.on_iter_end()\n",
    "        print(\"*** Best metric: {0} (epoch {1})\".format(best_metric, best_epoch))"
   ]
  },
  {
   "cell_type": "code",
   "execution_count": null,
   "id": "3cc7877d",
   "metadata": {
    "scrolled": true
   },
   "outputs": [],
   "source": [
    "for fold_idx in range(CFG.n_splits):\n",
    "    training_loop(fold_idx)"
   ]
  },
  {
   "cell_type": "code",
   "execution_count": null,
   "id": "9e0a3fa4",
   "metadata": {},
   "outputs": [],
   "source": []
  },
  {
   "cell_type": "markdown",
   "id": "cbb57bf2",
   "metadata": {
    "id": "T0Z5tB5f8obu",
    "papermill": {
     "duration": 0.018419,
     "end_time": "2022-10-21T04:58:56.268413",
     "exception": false,
     "start_time": "2022-10-21T04:58:56.249994",
     "status": "completed"
    },
    "tags": []
   },
   "source": [
    "### Fin "
   ]
  }
 ],
 "metadata": {
  "kernelspec": {
   "display_name": "Python 3 (ipykernel)",
   "language": "python",
   "name": "python3"
  },
  "language_info": {
   "codemirror_mode": {
    "name": "ipython",
    "version": 3
   },
   "file_extension": ".py",
   "mimetype": "text/x-python",
   "name": "python",
   "nbconvert_exporter": "python",
   "pygments_lexer": "ipython3",
   "version": "3.9.13"
  },
  "papermill": {
   "default_parameters": {},
   "duration": 771.032802,
   "end_time": "2022-10-21T04:58:58.627815",
   "environment_variables": {},
   "exception": null,
   "input_path": "__notebook__.ipynb",
   "output_path": "__notebook__.ipynb",
   "parameters": {},
   "start_time": "2022-10-21T04:46:07.595013",
   "version": "2.3.4"
  }
 },
 "nbformat": 4,
 "nbformat_minor": 5
}
