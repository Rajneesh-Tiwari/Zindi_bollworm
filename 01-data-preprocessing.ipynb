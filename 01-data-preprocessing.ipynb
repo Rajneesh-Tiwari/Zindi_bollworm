{
 "cells": [
  {
   "cell_type": "code",
   "execution_count": 1,
   "id": "b7501588",
   "metadata": {},
   "outputs": [],
   "source": [
    "from fastai.vision.all import *\n",
    "\n",
    "from shapely.wkt import loads\n",
    "from shapely.ops import clip_by_rect\n",
    "from shapely.geometry import box\n",
    "from tqdm import tqdm\n",
    "import cv2\n",
    "from sklearn.model_selection import StratifiedGroupKFold\n",
    "from tqdm.auto import tqdm"
   ]
  },
  {
   "cell_type": "code",
   "execution_count": 15,
   "id": "ca8fc0fb",
   "metadata": {},
   "outputs": [
    {
     "data": {
      "application/vnd.jupyter.widget-view+json": {
       "model_id": "89473b91d3fb474a8c6199f5c544323f",
       "version_major": 2,
       "version_minor": 0
      },
      "text/plain": [
       "fold_0:   0%|          | 0/1418 [00:00<?, ?it/s]"
      ]
     },
     "metadata": {},
     "output_type": "display_data"
    },
    {
     "data": {
      "application/vnd.jupyter.widget-view+json": {
       "model_id": "2b28fdca1b994e3e9a45ea6a55b0020d",
       "version_major": 2,
       "version_minor": 0
      },
      "text/plain": [
       "fold_1:   0%|          | 0/1416 [00:00<?, ?it/s]"
      ]
     },
     "metadata": {},
     "output_type": "display_data"
    },
    {
     "data": {
      "application/vnd.jupyter.widget-view+json": {
       "model_id": "66924cbcf2bb492aa92cba64f9ded7b8",
       "version_major": 2,
       "version_minor": 0
      },
      "text/plain": [
       "fold_2:   0%|          | 0/1411 [00:00<?, ?it/s]"
      ]
     },
     "metadata": {},
     "output_type": "display_data"
    },
    {
     "data": {
      "application/vnd.jupyter.widget-view+json": {
       "model_id": "c3e291bafb224f268ee074dfcf92e19c",
       "version_major": 2,
       "version_minor": 0
      },
      "text/plain": [
       "fold_3:   0%|          | 0/1417 [00:00<?, ?it/s]"
      ]
     },
     "metadata": {},
     "output_type": "display_data"
    },
    {
     "data": {
      "application/vnd.jupyter.widget-view+json": {
       "model_id": "482de50ec13c49a19652d4cec4563acd",
       "version_major": 2,
       "version_minor": 0
      },
      "text/plain": [
       "fold_4:   0%|          | 0/1417 [00:00<?, ?it/s]"
      ]
     },
     "metadata": {},
     "output_type": "display_data"
    }
   ],
   "source": [
    "for f in range(5):\n",
    "    file = np.loadtxt(f'///mnt/c/Personal/Competitions/Zindi/Wadhwani AI/data/splits/fold{f}.txt',dtype='str')\n",
    "    \n",
    "    for imageName in tqdm(list(file),desc=f'fold_{f}'):\n",
    "        imageName = imageName.split(\"/\")[-1]\n",
    "        shutil.copy(os.path.join(f'///mnt/c/Personal/Competitions/Zindi/Wadhwani AI/data/images', imageName), f'///mnt/c/Personal/Competitions/Zindi/Wadhwani AI/data/train_images_foldwise/fold{f}')"
   ]
  },
  {
   "cell_type": "code",
   "execution_count": null,
   "id": "1d044814",
   "metadata": {},
   "outputs": [],
   "source": []
  },
  {
   "cell_type": "code",
   "execution_count": null,
   "id": "348b3988",
   "metadata": {},
   "outputs": [],
   "source": []
  },
  {
   "cell_type": "code",
   "execution_count": null,
   "id": "633ad876",
   "metadata": {},
   "outputs": [],
   "source": []
  }
 ],
 "metadata": {
  "kernelspec": {
   "display_name": "Python 3 (ipykernel)",
   "language": "python",
   "name": "python3"
  },
  "language_info": {
   "codemirror_mode": {
    "name": "ipython",
    "version": 3
   },
   "file_extension": ".py",
   "mimetype": "text/x-python",
   "name": "python",
   "nbconvert_exporter": "python",
   "pygments_lexer": "ipython3",
   "version": "3.9.13"
  },
  "vscode": {
   "interpreter": {
    "hash": "d4d1e4263499bec80672ea0156c357c1ee493ec2b1c70f0acce89fc37c4a6abe"
   }
  }
 },
 "nbformat": 4,
 "nbformat_minor": 5
}
